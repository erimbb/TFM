{
 "cells": [
  {
   "cell_type": "markdown",
   "id": "cc7e405d-6dd0-4c0f-9480-0c4434aae93e",
   "metadata": {},
   "source": [
    "# Obtenció de xarxa en SIGNOR"
   ]
  },
  {
   "cell_type": "code",
   "execution_count": 1,
   "id": "00cf37e4-ce32-423e-9f6d-c9bebc15f1b9",
   "metadata": {},
   "outputs": [
    {
     "name": "stdout",
     "output_type": "stream",
     "text": [
      "CPU times: total: 7.25 s\n",
      "Wall time: 8.4 s\n"
     ]
    }
   ],
   "source": [
    "%%time\n",
    "from neko.core.network import Network\n",
    "from neko.inputs import Universe, signor"
   ]
  },
  {
   "cell_type": "code",
   "execution_count": 2,
   "id": "f02f728a-d568-4bca-a9bb-2ac89d151f2a",
   "metadata": {},
   "outputs": [],
   "source": [
    "resources = Universe()\n",
    "resources = signor(\"C:/Users/Eri/anaconda3/envs/tfm/Lib/site-packages/neko/data/signor_db.tsv\")\n",
    "resources.build()"
   ]
  },
  {
   "cell_type": "code",
   "execution_count": 3,
   "id": "cbc4d0ef-c3d0-4721-af6d-7b29f9c03a55",
   "metadata": {},
   "outputs": [],
   "source": [
    "gens = [\n",
    "    \"EGF\", \"NRG1\", \"NRG2\", \"NRG3\", \"NRG4\",\n",
    "    \"EGFR\", \"ERBB2\", \"ERBB3\", \"ERBB4\", \n",
    "    \"PLCG1\", \"PIK3CA\", \"PIK3R1\", \n",
    "    \"PTEN\", \"PDPK1\", \n",
    "    \"PRKCA\", \"PRKCB\", \"PRKCG\", \"PRKCZ\",\n",
    "    \"AKT1\", \"AKT2\", \"AKT3\",\n",
    "    \"TSC2\", \"TSC1\", \"RHEB\", \n",
    "    \"MLST8\", \"MTOR\", \"RPTOR\", \"AKT1S1\",\n",
    "    \"RICTOR\", \"MAPKAP1\", \"PRR5\",\n",
    "    \"EIF4EBP1\", \"DEPTOR\",\n",
    "    \"SIGNOR-C3\", \"SIGNOR-C2\",\n",
    "    \"PTK2B\", \"SRC\", \"PTPN11\", \"PRKACA\", \n",
    "    \"SHC1\", \"GRB2\", \"SOS1\",\n",
    "    \"ARAF\", \"BRAF\", \"RAF1\",\n",
    "    \"HRAS\", \"KRAS\", \"NRAS\", \n",
    "    \"MAP2K1\", \"MAP2K2\",  \n",
    "    \"MAPK3\", \"MAPK1\", \n",
    "    \"RPS6KA1\", \"CREB1\",\n",
    "    \"ARHGEF1\", \"ARHGEF6\", \"ARHGEF11\", \"ARHGEF12\", \n",
    "    \"CDC42\", \"CDC42BPA\", \"CDC42BPB\",\n",
    "    \"RAC1\", \"RAC2\", \"RAC3\", \"RHOA\", \n",
    "    \"PAK1\", \"PAK2\", \"PAK3\", \"PAK4\", \n",
    "    \"ROCK1\", \"ROCK2\", \"LIMK1\", \"LIMK2\", \n",
    "    \"CFL1\", \"CFL2\", \"STMN1\",\n",
    "    \"CDC42EP1\", \"CDC42EP2\", \"CDC42EP3\", \"CDC42EP4\", \n",
    "    \"PPP1R12A\", \"PPP1R12B\"\n",
    "]\n",
    "# mTORC1 = \"SIGNOR-C3\"\n",
    "# mTORC2 = \"SIGNOR-C2\" "
   ]
  },
  {
   "cell_type": "code",
   "execution_count": 4,
   "id": "82a48258-dc36-4e39-bb02-48040fda61c0",
   "metadata": {},
   "outputs": [
    {
     "name": "stdout",
     "output_type": "stream",
     "text": [
      "Error: node CDC42EP1 is not present in the resources database\n",
      "Error: node CDC42EP2 is not present in the resources database\n",
      "Error: node CDC42EP3 is not present in the resources database\n"
     ]
    }
   ],
   "source": [
    "xarxa = Network(gens, resources = resources.interactions)"
   ]
  },
  {
   "cell_type": "code",
   "execution_count": 5,
   "id": "650567cb-a0de-47fa-b241-7c5698f69e5c",
   "metadata": {},
   "outputs": [
    {
     "name": "stdout",
     "output_type": "stream",
     "text": [
      "CPU times: total: 1.5 s\n",
      "Wall time: 1.52 s\n"
     ]
    }
   ],
   "source": [
    "%%time\n",
    "xarxa.connect_nodes(only_signed=True, consensus_only=False)"
   ]
  },
  {
   "cell_type": "code",
   "execution_count": 6,
   "id": "10006687-b056-42b7-be28-c149de03d649",
   "metadata": {},
   "outputs": [],
   "source": [
    "from neko._outputs.exports import Exports"
   ]
  },
  {
   "cell_type": "code",
   "execution_count": 7,
   "id": "00781b51-62f8-426a-b0bc-c7a3be2eae75",
   "metadata": {},
   "outputs": [],
   "source": [
    "exportar = Exports(xarxa)\n",
    "exportar.export_sif(file_name=\"C:/Users/Eri/Desktop/TFM/JupyterNotebook/xarxa.sif\")"
   ]
  },
  {
   "cell_type": "markdown",
   "id": "26dd7cab-6397-4d84-abcc-b22d029742c5",
   "metadata": {},
   "source": [
    "# Obtenció de xarxa en OmniPath"
   ]
  },
  {
   "cell_type": "code",
   "execution_count": 8,
   "id": "c121b043-a035-47eb-bee1-50f7dc3e06f4",
   "metadata": {},
   "outputs": [],
   "source": [
    "import omnipath as op"
   ]
  },
  {
   "cell_type": "code",
   "execution_count": 9,
   "id": "dbc29312-b214-4b63-b47a-7c561704ff02",
   "metadata": {},
   "outputs": [
    {
     "name": "stdout",
     "output_type": "stream",
     "text": [
      "Error: node SIGNOR-C3 is not present in the resources database\n",
      "Error: node SIGNOR-C2 is not present in the resources database\n"
     ]
    }
   ],
   "source": [
    "xarxa_op = Network(gens, resources = 'omnipath')"
   ]
  },
  {
   "cell_type": "code",
   "execution_count": 10,
   "id": "38b95570-e286-4433-8875-07ec24043b8e",
   "metadata": {},
   "outputs": [
    {
     "name": "stdout",
     "output_type": "stream",
     "text": [
      "CPU times: total: 15.3 s\n",
      "Wall time: 15.4 s\n"
     ]
    }
   ],
   "source": [
    "%%time\n",
    "xarxa_op.connect_nodes(only_signed=True, consensus_only=True)"
   ]
  },
  {
   "cell_type": "code",
   "execution_count": 11,
   "id": "e70f9f38-ea75-4f98-a0dd-061b1be88aae",
   "metadata": {},
   "outputs": [],
   "source": [
    "exportar_op = Exports(xarxa_op)\n",
    "exportar_op.export_sif(file_name=\"C:/Users/Eri/Desktop/TFM/JupyterNotebook/xarxa_op.sif\")"
   ]
  },
  {
   "cell_type": "markdown",
   "id": "4f205d36-8ac4-4c8a-83ac-a4c5198a47c5",
   "metadata": {},
   "source": [
    "# Modificacions"
   ]
  },
  {
   "cell_type": "markdown",
   "id": "52074e34-7e70-4ac3-bed3-fde1411495b8",
   "metadata": {},
   "source": [
    "Modificacions afegides al arxiu **xarxa.sif** > **xarxa_mod.sif**:\n",
    "\n",
    "**Connexions afegides de omnipath (xarxa_op.sif) i Forget et al., 2018:**\n",
    "\n",
    "PI3KCA > PDPK1\n",
    "\n",
    "PI3KR1 > PDPK1\n",
    "\n",
    "PLCG1 > PRKCG\n",
    "\n",
    "PI3KCA > PRKCZ\n",
    "\n",
    "PI3KR1 > PRKCZ\n",
    "\n",
    "PRKCA > PTK2B\n",
    "\n",
    "PRKCB > PTK2B\n",
    "\n",
    "PRKCG > PTK2B\n",
    "\n",
    "PTK2B > SRC\n",
    "\n",
    "PTEN - AKT2\n",
    "\n",
    "PTEN - AKT3\n",
    "\n",
    "AKT3 - TSC1\n",
    "\n",
    "AKT3 - TSC2\n",
    "\n",
    "ARHGEF1 > RAC1\n",
    "\n",
    "ARHGEF6 > RAC2\n",
    "\n",
    "ARHGEF6 > RAC3\n",
    "\n",
    "ARHGEF6 > CDC42\n",
    "\n",
    "CDC42 > PAK3\n",
    "\n",
    "CDC42 > PAK4\n",
    "\n",
    "RAC1 > PAK3\n",
    "\n",
    "RAC1 > PAK4\n",
    "\n",
    "RAC2 > PAK2\n",
    "\n",
    "RAC2 > PAK3\n",
    "\n",
    "RAC2 > PAK4\n",
    "\n",
    "RAC3 > PAK1\n",
    "\n",
    "RAC3 > PAK2\n",
    "\n",
    "RAC3 > PAK3\n",
    "\n",
    "RAC3 > PAK4\n",
    "\n",
    "PAK1 > LIMK2\n",
    "\n",
    "PAK2 > BRAF\n",
    "\n",
    "PAK2 > RAF1\n",
    "\n",
    "PAK2 > LIMK2\n",
    "\n",
    "PAK3 > LIMK1\n",
    "\n",
    "PAK3 > LIMK2\n",
    "\n",
    "PAK4 > LIMK1\n",
    "\n",
    "PAK4 > LIMK2\n",
    "\n",
    "RHOA > ROCK2 \n",
    "\n",
    "ROCK2 > LIMK1\n",
    "\n",
    "ROCK2 > LIMK2\n",
    "\n",
    "ROCK2 > LIMK1\n",
    "\n",
    "ROCK2 - PP1R12A\n",
    "\n",
    "**Connexions afegides de Forget et al. 2018:**\n",
    "\n",
    "PLCG1 > PDPK1\n",
    "\n",
    "PTEN - PDPK1\n",
    "\n",
    "RHOA > CDC42EP4\n",
    "\n",
    "**Canvi de connexió modificacions:**\n",
    "\n",
    "PTPN11 > SRC (de bimodal a stimulation)\n",
    "\n",
    "**Eliminació de gens**\n",
    "\n",
    "CDC42EP1,2,3 no apareixen (sg) o sense connexions (op).\n",
    "\n",
    "CDCD42BPB cap connexió en ninguna base de dades.\n",
    "\n",
    "Eliminem els 4 gens: CDC42EP1,2,3 i CDC42BPB."
   ]
  }
 ],
 "metadata": {
  "kernelspec": {
   "display_name": "Python 3 (ipykernel)",
   "language": "python",
   "name": "python3"
  },
  "language_info": {
   "codemirror_mode": {
    "name": "ipython",
    "version": 3
   },
   "file_extension": ".py",
   "mimetype": "text/x-python",
   "name": "python",
   "nbconvert_exporter": "python",
   "pygments_lexer": "ipython3",
   "version": "3.10.14"
  }
 },
 "nbformat": 4,
 "nbformat_minor": 5
}
