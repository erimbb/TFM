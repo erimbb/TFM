{
 "cells": [
  {
   "cell_type": "code",
   "execution_count": 1,
   "id": "b57389cf-0dd9-45c4-9a5b-d59fe816b947",
   "metadata": {},
   "outputs": [],
   "source": [
    "import pandas as pd"
   ]
  },
  {
   "cell_type": "code",
   "execution_count": 2,
   "id": "9edee6f4-3a89-4830-99a3-1568dd5ee566",
   "metadata": {},
   "outputs": [
    {
     "name": "stderr",
     "output_type": "stream",
     "text": [
      "/home/egarve/miniconda3/envs/tfm/lib/python3.12/site-packages/openpyxl/worksheet/_read_only.py:85: UserWarning: Unknown extension is not supported and will be removed\n",
      "  for idx, row in parser.parse():\n"
     ]
    }
   ],
   "source": [
    "# Creació de df data a partir del excel\n",
    "data = pd.read_excel('dades.xlsx', sheet_name = 'Fig-5 Expression values', engine = 'openpyxl')"
   ]
  },
  {
   "cell_type": "code",
   "execution_count": 3,
   "id": "ca624a17-2de4-4a31-ad60-64042c362737",
   "metadata": {},
   "outputs": [],
   "source": [
    "# Eliminació de columna redundant\n",
    "data = data.drop(columns=[\"protein name\"])"
   ]
  },
  {
   "cell_type": "code",
   "execution_count": 4,
   "id": "2c24db71-7bc0-47d4-a604-f38a9789c442",
   "metadata": {},
   "outputs": [],
   "source": [
    "# Eliminació de columnes ambs dades sobre log2 i p value\n",
    "col_remove = [col for col in data.columns if \"log2\" in col.lower() or \"p value\" in col.lower()]\n",
    "data = data.drop(columns=col_remove)"
   ]
  },
  {
   "cell_type": "code",
   "execution_count": 5,
   "id": "9cc08f7f-319e-42e3-9dcc-7b87c253724e",
   "metadata": {},
   "outputs": [],
   "source": [
    "# Llista de gens del Jupyter Notebook emprat en Neko amb modificacions\n",
    "genes = [\n",
    "    \"NRG1\", \"NRG2\", \"NRG3\", \"NRG4\",\n",
    "    \"EGFR\", \"ERBB2\", \"ERBB3\", \"ERBB4\", \n",
    "    \"PLCG1\", \"PIK3CA\", \"PIK3R1\", \n",
    "    \"PTEN\", \"PDPK1\", \n",
    "    \"PRKCA\", \"PRKCB\", \"PRKCG\", \"PRKCZ\",\n",
    "    \"AKT1\", \"AKT2\", \"AKT3\",\n",
    "    \"TSC2\", \"TSC1\", \"RHEB\", \n",
    "    \"MLST8\", \"MTOR\", \"RPTOR\", \"AKT1S1\",\n",
    "    \"RICTOR\", \"MAPKAP1\", \"PRR5\",\n",
    "    \"EIF4EBP1\", \"DEPTOR\",\n",
    "    \"PTK2B\", \"SRC\", \"PTPN11\", \"PRKACA\", \n",
    "    \"SHC1\", \"GRB2\", \"SOS1\",\n",
    "    \"ARAF\", \"BRAF\", \"RAF1\",\n",
    "    \"HRAS\", \"KRAS\", \"NRAS\", \n",
    "    \"MAP2K1\", \"MAP2K2\",  \n",
    "    \"MAPK3\", \"MAPK1\", \n",
    "    \"RPS6KA1\", \"CREB1\",\n",
    "    \"ARHGEF1\", \"ARHGEF6\", \"ARHGEF11\", \"ARHGEF12\", \n",
    "    \"CDC42\", \"CDC42BPA\", \"CDC42BPB\",\n",
    "    \"RAC1\", \"RAC2\", \"RAC3\", \"RHOA\", \n",
    "    \"PAK1\", \"PAK2\", \"PAK3\", \"PAK4\", \n",
    "    \"ROCK1\", \"ROCK2\", \"LIMK1\", \"LIMK2\", \n",
    "    \"CFL1\", \"CFL2\", \"STMN1\",\n",
    "    \"CDC42EP4\", \"PPP1R12A\", \"PPP1R12B\"\n",
    "]\n",
    "\n",
    "# EGF: en la figura s'indica que no tenen dades, el llevem.\n",
    "# Complexos: apareixen els components, no els complexos complets, així que els llevem."
   ]
  },
  {
   "cell_type": "code",
   "execution_count": 6,
   "id": "73c34f2f-e731-4af4-b2df-512808c5c69c",
   "metadata": {},
   "outputs": [
    {
     "data": {
      "text/plain": [
       "76"
      ]
     },
     "execution_count": 6,
     "metadata": {},
     "output_type": "execute_result"
    }
   ],
   "source": [
    "# Calculem el nombre de files que hauríem d'obtindre després de filtrar\n",
    "len(genes)"
   ]
  },
  {
   "cell_type": "code",
   "execution_count": 7,
   "id": "b43a44d0-ce61-4b2a-aba1-cac6342e258b",
   "metadata": {},
   "outputs": [
    {
     "data": {
      "text/plain": [
       "76"
      ]
     },
     "execution_count": 7,
     "metadata": {},
     "output_type": "execute_result"
    }
   ],
   "source": [
    "# Filtrem gens de la llista genes\n",
    "# Afegim passar tot a mayúscules per als gens que no ho estiguen\n",
    "data = data[data[\"gene name\"].str.upper().isin(genes)]\n",
    "len(data)"
   ]
  },
  {
   "cell_type": "code",
   "execution_count": 8,
   "id": "e9d83969-d72f-440b-bd2f-335b041408f1",
   "metadata": {},
   "outputs": [],
   "source": [
    "# Eliminem la columna de dades que no tinga cap (tot NA)\n",
    "data = data.dropna(axis='columns', how=\"all\")"
   ]
  },
  {
   "cell_type": "markdown",
   "id": "a35f94c1-f9dc-4235-b97c-0ee2fb07c5f7",
   "metadata": {},
   "source": [
    "# Phospho-Site Ratio (G4/G3) - Inhibition"
   ]
  },
  {
   "cell_type": "code",
   "execution_count": 9,
   "id": "64d02f07-2b9c-42bd-866e-87d356b3377a",
   "metadata": {},
   "outputs": [],
   "source": [
    "# Fosforilacions inhibitòries  que es volen filtrar (Fig. 5 Forget et al.)\n",
    "fosfo_inh = [\"S294\", \"T246\", \"T70\", \"S25\", \"T646\"]"
   ]
  },
  {
   "cell_type": "code",
   "execution_count": 10,
   "id": "08e50b64-68f5-4a09-a4fe-97e8edca85d5",
   "metadata": {},
   "outputs": [],
   "source": [
    "# Creem un nou df amb les mateixe columnes\n",
    "inh = pd.DataFrame(columns=data.columns)\n",
    "\n",
    "# Busquem les fosforilacions de la llista fosfo_inh en el df data\n",
    "# Si les troba, copia la fila sencera en el df inh\n",
    "for index, row in data.iterrows():\n",
    "    if any(fosfo in str(row.values) for fosfo in fosfo_inh):\n",
    "        inh = pd.concat([inh, row.to_frame().T], ignore_index=True)"
   ]
  },
  {
   "cell_type": "code",
   "execution_count": 11,
   "id": "e468fb80-2022-4209-af05-61430efc3e41",
   "metadata": {},
   "outputs": [],
   "source": [
    "# Eliminem la columna de mRNA i la de proteina\n",
    "inh = inh.drop(columns=[\"mRNA ratio (G4 vs. G3)\", \"protein Ratio (G4 vs. G3)\"])"
   ]
  },
  {
   "cell_type": "code",
   "execution_count": 12,
   "id": "65e72ded-aafa-4b6c-8ef3-9be883a97e6d",
   "metadata": {},
   "outputs": [
    {
     "name": "stdout",
     "output_type": "stream",
     "text": [
      "       gene     ratio\n",
      "0      PTEN  2.706930\n",
      "1  EIF4EBP1  0.280431\n",
      "2  PPP1R12B  3.526870\n",
      "3     STMN1  3.825690\n",
      "4    AKT1S1  1.875820\n"
     ]
    }
   ],
   "source": [
    "# Creem un nou df per a guardar les dades filtrades\n",
    "df_inh = []\n",
    "\n",
    "# Totes les fosforilacions desitjades están al Phospho-Site-1 \n",
    "# a excepció de la PPP1R12B, que està a la Phospho-Site-2\n",
    "for index, row in inh.iterrows():\n",
    "    gene_name = row[\"gene name\"]\n",
    "    if gene_name == \"PPP1R12B\":\n",
    "        # Si es PPP1R12B, agafem phospho-site 2 i la seua ratio\n",
    "        phospho_site = row[\"Phospho-Site-2\"]\n",
    "        ratio = row[\"Ratio (G4 vs. G3) phospho-Site-2\"]\n",
    "        if pd.notna(phospho_site) and pd.notna(ratio):\n",
    "            df_inh.append([gene_name, phospho_site, ratio])\n",
    "    else:\n",
    "        # Per als demés, agafem sols phospho-site 1\n",
    "        phospho_site = row[\"Phospho-Site-1\"]\n",
    "        ratio = row[\"Ratio (G4 vs. G3) phospho-Site-1\"]\n",
    "        if pd.notna(phospho_site) and pd.notna(ratio):\n",
    "            df_inh.append([gene_name, phospho_site, ratio])\n",
    "\n",
    "# Guardem dades filtrades en el df inh\n",
    "inh = pd.DataFrame(df_inh, columns=[\"gene name\", \"phospho site\", \"ratio\"])\n",
    "\n",
    "# Eliminem phospho site\n",
    "inh = inh.drop(columns=['phospho site'])\n",
    "\n",
    "# Canviem el nom de \"gene name\" per \"gene\"\n",
    "inh = inh.rename(columns={\"gene name\": \"gene\"})\n",
    "\n",
    "# Resultat\n",
    "print(inh)"
   ]
  },
  {
   "cell_type": "markdown",
   "id": "6d612e01-ca3e-4f7e-a03d-02027766de9c",
   "metadata": {},
   "source": [
    "# Protein Ratio G4/G3"
   ]
  },
  {
   "cell_type": "code",
   "execution_count": 13,
   "id": "7adc78c8-6eea-4475-85df-b5438461ec1a",
   "metadata": {},
   "outputs": [
    {
     "name": "stdout",
     "output_type": "stream",
     "text": [
      "['PTEN', 'EIF4EBP1', 'PPP1R12B', 'STMN1', 'AKT1S1']\n"
     ]
    }
   ],
   "source": [
    "# Llista de genes_inh\n",
    "genes_inh = inh[\"gene\"].tolist()\n",
    "print(genes_inh)"
   ]
  },
  {
   "cell_type": "code",
   "execution_count": 14,
   "id": "dbab95b8-93b4-4b4c-9219-1b29cd9fd23a",
   "metadata": {},
   "outputs": [],
   "source": [
    "# Extracció de columna de protein amb les seues dades al df prot\n",
    "prot = data[data['protein Ratio (G4 vs. G3)'].notna()]"
   ]
  },
  {
   "cell_type": "code",
   "execution_count": 15,
   "id": "90f33ead-5acd-4bdc-a0f9-e2fe33d40ffe",
   "metadata": {},
   "outputs": [
    {
     "name": "stdout",
     "output_type": "stream",
     "text": [
      "         gene     ratio\n",
      "0        NRG1  6.591660\n",
      "4        EGFR  2.233910\n",
      "8        SHC1  0.703137\n",
      "12       GRB2  1.224990\n",
      "13       SOS1  0.682682\n",
      "15       Hras  1.376180\n",
      "16       Nras  1.855020\n",
      "17       Kras  3.026130\n",
      "18       Araf  0.666772\n",
      "19       Braf  1.592430\n",
      "20       RAF1  1.585250\n",
      "21     MAP2K1  1.373440\n",
      "22     MAP2K2  1.208520\n",
      "23      MAPK3  2.110630\n",
      "24      MAPK1  2.748830\n",
      "28      PLCG1  1.304620\n",
      "30       RAC1  1.988470\n",
      "31       RAC2  0.604242\n",
      "32       RAC3  0.953708\n",
      "33     PIK3CA  2.891970\n",
      "36     PIK3R1  1.803950\n",
      "41      PDPK1  3.074810\n",
      "42       AKT1  1.565270\n",
      "43       AKT2  0.952235\n",
      "44       AKT3  0.983179\n",
      "45       TSC1  2.481320\n",
      "46       TSC2  1.861380\n",
      "52      RPTOR  1.005410\n",
      "53     RICTOR  0.673088\n",
      "57        SRC  2.177720\n",
      "61       mTOR  0.986407\n",
      "90      PTK2B  9.767110\n",
      "91     PTPN11  1.832330\n",
      "98      PRKCA  4.277320\n",
      "99      PRKCB  6.833150\n",
      "105      RHOA  1.111550\n",
      "120     ROCK2  1.475840\n",
      "121     ROCK1  0.784630\n",
      "127     CDC42  1.294390\n",
      "128  CDC42BPB  1.741570\n",
      "129  CDC42EP4  4.923640\n",
      "131  CDC42BPA  0.936645\n",
      "138      PAK1  1.158730\n",
      "139      PAK2  1.284080\n",
      "141      PAK4  1.218680\n",
      "142    PRKACA  2.501980\n",
      "143   RPS6KA1  1.524860\n",
      "146   ARHGEF1  0.443338\n",
      "151   ARHGEF6  2.452530\n",
      "155  ARHGEF11  1.641930\n",
      "156  ARHGEF12  2.129530\n",
      "162     LIMK1  1.056010\n",
      "164      CFL1  1.388370\n",
      "165      CFL2  2.015000\n",
      "169     CREB1  1.980050\n",
      "170  PPP1R12A  0.945863\n",
      "176      RHEB  1.369670\n",
      "177     MLST8  1.054930\n"
     ]
    }
   ],
   "source": [
    "# Eliminació de genes_inh del df prot\n",
    "prot = prot[~prot['gene name'].isin(genes_inh)]\n",
    "\n",
    "# Eliminació de columna mRNA del df prot\n",
    "prot = prot.drop(columns=['mRNA ratio (G4 vs. G3)'])\n",
    "\n",
    "# Seleccionem les dues primeres columnes (\"gene name\" i \"protein Ratio (G4 vs. G3)\")\n",
    "prot = prot.iloc[:, :2]\n",
    "\n",
    "# Canviem el nom de \"gene name\" per \"gene\" i de protein Ratio:\n",
    "prot = prot.rename(columns={\"gene name\": \"gene\"})\n",
    "prot = prot.rename(columns={\"protein Ratio (G4 vs. G3)\": \"ratio\"})\n",
    "\n",
    "print(prot)"
   ]
  },
  {
   "cell_type": "markdown",
   "id": "90c2416a-6e5f-4f16-bfb7-04ee53523398",
   "metadata": {},
   "source": [
    "# mRNA Ratio G4/G3"
   ]
  },
  {
   "cell_type": "code",
   "execution_count": 16,
   "id": "a51a0d31-8410-4314-b562-1aa03b75b0a1",
   "metadata": {},
   "outputs": [
    {
     "name": "stdout",
     "output_type": "stream",
     "text": [
      "['NRG1', 'EGFR', 'SHC1', 'GRB2', 'SOS1', 'Hras', 'Nras', 'Kras', 'Araf', 'Braf', 'RAF1', 'MAP2K1', 'MAP2K2', 'MAPK3', 'MAPK1', 'PLCG1', 'RAC1', 'RAC2', 'RAC3', 'PIK3CA', 'PIK3R1', 'PDPK1', 'AKT1', 'AKT2', 'AKT3', 'TSC1', 'TSC2', 'RPTOR', 'RICTOR', 'SRC', 'mTOR', 'PTK2B', 'PTPN11', 'PRKCA', 'PRKCB', 'RHOA', 'ROCK2', 'ROCK1', 'CDC42', 'CDC42BPB', 'CDC42EP4', 'CDC42BPA', 'PAK1', 'PAK2', 'PAK4', 'PRKACA', 'RPS6KA1', 'ARHGEF1', 'ARHGEF6', 'ARHGEF11', 'ARHGEF12', 'LIMK1', 'CFL1', 'CFL2', 'CREB1', 'PPP1R12A', 'RHEB', 'MLST8']\n"
     ]
    }
   ],
   "source": [
    "# Llista de genes_prot\n",
    "genes_prot = prot[\"gene\"].tolist()\n",
    "print(genes_prot)"
   ]
  },
  {
   "cell_type": "code",
   "execution_count": 17,
   "id": "fa29a0f1-ab6d-463d-8cea-2d555930f678",
   "metadata": {},
   "outputs": [
    {
     "name": "stdout",
     "output_type": "stream",
     "text": [
      "        gene      ratio\n",
      "1       NRG2   5.506050\n",
      "2       NRG3   0.346638\n",
      "3       NRG4   4.378950\n",
      "5      ERBB2   0.717424\n",
      "6      ERBB3   0.184358\n",
      "7      ERBB4   6.340570\n",
      "54    DEPTOR   0.255041\n",
      "100    PRKCG  19.570000\n",
      "101    PRKCZ   1.958500\n",
      "140     PAK3   4.066210\n",
      "163    LIMK2   0.859694\n",
      "175     PRR5   3.123560\n",
      "183  MAPKAP1   0.635370\n"
     ]
    }
   ],
   "source": [
    "# Creació de df de mrna i eliminació de genes_inh\n",
    "mrna = data[~data['gene name'].isin(genes_inh)]\n",
    "\n",
    "# Elminació de genes_prot\n",
    "mrna = mrna[~mrna['gene name'].isin(genes_prot)]\n",
    "\n",
    "# Seleccionem les dues primeres columnes (\"gene name\" i \"mRNA ratio (G4 vs. G3)\")\n",
    "mrna = mrna.iloc[:, :2]\n",
    "\n",
    "# Canviem el nom de \"gene name\" per \"gene\" i de protein Ratio:\n",
    "mrna = mrna.rename(columns={\"gene name\": \"gene\"})\n",
    "mrna = mrna.rename(columns={\"mRNA ratio (G4 vs. G3)\": \"ratio\"})\n",
    "\n",
    "print(mrna)"
   ]
  },
  {
   "cell_type": "markdown",
   "id": "23efd599-1cb0-47da-ab37-38015cc379d2",
   "metadata": {},
   "source": [
    "# Reciprocal Ratio"
   ]
  },
  {
   "cell_type": "code",
   "execution_count": 18,
   "id": "1814b369-58df-4c9c-a5b0-cef18460d24a",
   "metadata": {},
   "outputs": [],
   "source": [
    "# Ordre ascendent\n",
    "inh = inh.sort_values(by=inh.columns[1], ascending=True)\n",
    "mrna = mrna.sort_values(by=mrna.columns[1], ascending=True)\n",
    "prot = prot.sort_values(by=prot.columns[1], ascending=True)"
   ]
  },
  {
   "cell_type": "code",
   "execution_count": 19,
   "id": "abfa657b-f89a-4d5c-a7f4-969619b21f3e",
   "metadata": {},
   "outputs": [],
   "source": [
    "# Càlcul de la inversa de la ratio\n",
    "inh['reciprocal'] = 1 / inh.iloc[:, 1]\n",
    "mrna['reciprocal'] = 1 / mrna.iloc[:, 1]\n",
    "prot['reciprocal'] = 1 / prot.iloc[:, 1]"
   ]
  },
  {
   "cell_type": "code",
   "execution_count": 20,
   "id": "f3605fc3-9210-4a79-b61b-0cca3f861b21",
   "metadata": {},
   "outputs": [],
   "source": [
    "# Extracció d'excel processat\n",
    "with pd.ExcelWriter('probabilitats.xlsx', engine='openpyxl') as writer:\n",
    "    inh.to_excel(writer, sheet_name='inh', index=False)\n",
    "    prot.to_excel(writer, sheet_name='prot', index=False)\n",
    "    mrna.to_excel(writer, sheet_name='mrna', index=False)"
   ]
  }
 ],
 "metadata": {
  "kernelspec": {
   "display_name": "Python (tfm)",
   "language": "python",
   "name": "tfm"
  },
  "language_info": {
   "codemirror_mode": {
    "name": "ipython",
    "version": 3
   },
   "file_extension": ".py",
   "mimetype": "text/x-python",
   "name": "python",
   "nbconvert_exporter": "python",
   "pygments_lexer": "ipython3",
   "version": "3.12.7"
  }
 },
 "nbformat": 4,
 "nbformat_minor": 5
}
