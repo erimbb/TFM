{
 "cells": [
  {
   "cell_type": "code",
   "execution_count": 1,
   "id": "476c14a3-baff-46f4-a011-4d054dfa6e73",
   "metadata": {},
   "outputs": [],
   "source": [
    "from neko.core.network import Network\n",
    "from neko.inputs import Universe, signor\n",
    "from neko._outputs.exports import Exports"
   ]
  },
  {
   "cell_type": "code",
   "execution_count": 2,
   "id": "7f34bfe0-2068-40c1-9a24-fd6fe22cf13b",
   "metadata": {},
   "outputs": [],
   "source": [
    "resources = Universe()\n",
    "resources = signor(\"C:/Users/Eri/anaconda3/envs/tfm/Lib/site-packages/neko/data/signor_db.tsv\")  \n",
    "resources.build()"
   ]
  },
  {
   "cell_type": "code",
   "execution_count": 3,
   "id": "d93d8ed4-7743-4ff7-b14e-079c5d39e33e",
   "metadata": {},
   "outputs": [],
   "source": [
    "xarxa_mod = Network(sif_file='./xarxa_mod.sif', resources=resources.interactions)"
   ]
  },
  {
   "cell_type": "code",
   "execution_count": 5,
   "id": "953fc9be-d0ff-4704-b23d-947f86d78253",
   "metadata": {},
   "outputs": [
    {
     "name": "stdout",
     "output_type": "stream",
     "text": [
      "Created BNet file: C:/Users/Eri/Desktop/TFM/JupyterNotebook/model_1.bnet\n",
      "Generated 1 BNet files.\n"
     ]
    }
   ],
   "source": [
    "exportar = Exports(xarxa_mod)\n",
    "exportar.export_bnet(file_name=\"C:/Users/Eri/Desktop/TFM/JupyterNotebook/model.bnet\")"
   ]
  },
  {
   "cell_type": "code",
   "execution_count": null,
   "id": "53c378d1-8a83-4b26-8a2f-e4c273ba2e78",
   "metadata": {},
   "outputs": [],
   "source": []
  }
 ],
 "metadata": {
  "kernelspec": {
   "display_name": "Python 3 (ipykernel)",
   "language": "python",
   "name": "python3"
  },
  "language_info": {
   "codemirror_mode": {
    "name": "ipython",
    "version": 3
   },
   "file_extension": ".py",
   "mimetype": "text/x-python",
   "name": "python",
   "nbconvert_exporter": "python",
   "pygments_lexer": "ipython3",
   "version": "3.10.14"
  }
 },
 "nbformat": 4,
 "nbformat_minor": 5
}
